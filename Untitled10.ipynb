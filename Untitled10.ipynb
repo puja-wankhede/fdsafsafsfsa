{
 "cells": [
  {
   "cell_type": "code",
   "execution_count": null,
   "id": "1161cad0",
   "metadata": {},
   "outputs": [],
   "source": [
    "gfddd\n",
    "dfhzdfjk\n",
    "fdfsdf\n",
    "fzsdf\n",
    "ffzxcVzds\n",
    "zvz\n",
    "fzv\n",
    "gd\n",
    "Sff\n",
    "sdF\n",
    "sddf\n",
    "dd"
   ]
  }
 ],
 "metadata": {
  "kernelspec": {
   "display_name": "Python 3",
   "language": "python",
   "name": "python3"
  },
  "language_info": {
   "codemirror_mode": {
    "name": "ipython",
    "version": 3
   },
   "file_extension": ".py",
   "mimetype": "text/x-python",
   "name": "python",
   "nbconvert_exporter": "python",
   "pygments_lexer": "ipython3",
   "version": "3.8.8"
  }
 },
 "nbformat": 4,
 "nbformat_minor": 5
}
